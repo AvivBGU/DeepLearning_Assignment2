{
  "cells": [
    {
      "cell_type": "markdown",
      "metadata": {
        "id": "view-in-github",
        "colab_type": "text"
      },
      "source": [
        "<a href=\"https://colab.research.google.com/github/AvivBGU/DeepLearning_Assignment2/blob/main/main.ipynb\" target=\"_parent\"><img src=\"https://colab.research.google.com/assets/colab-badge.svg\" alt=\"Open In Colab\"/></a>"
      ]
    },
    {
      "cell_type": "markdown",
      "source": [
        "# Imports & Constants"
      ],
      "metadata": {
        "id": "rtJZSgupvMTZ"
      },
      "id": "rtJZSgupvMTZ"
    },
    {
      "cell_type": "markdown",
      "source": [
        "<font size=\"4\">Imports </font>"
      ],
      "metadata": {
        "id": "UbwrfERBvbOG"
      },
      "id": "UbwrfERBvbOG"
    },
    {
      "metadata": {
        "jupyter": {
          "is_executing": true
        },
        "ExecuteTime": {
          "start_time": "2025-04-24T11:01:56.955022Z"
        },
        "id": "fbc121e30a2defb3"
      },
      "cell_type": "code",
      "source": [
        "import os\n",
        "import torch.nn as nn\n",
        "import zipfile"
      ],
      "id": "fbc121e30a2defb3",
      "outputs": [],
      "execution_count": 2
    },
    {
      "metadata": {
        "id": "792fda7a90fc3204"
      },
      "cell_type": "markdown",
      "source": [
        "<font size=\"4\">Constants</font>"
      ],
      "id": "792fda7a90fc3204"
    },
    {
      "metadata": {
        "ExecuteTime": {
          "end_time": "2025-04-23T12:57:22.636614Z",
          "start_time": "2025-04-23T12:57:22.628140Z"
        },
        "id": "4ab05b4b7ab2bc28"
      },
      "cell_type": "code",
      "source": [
        "current_working_directory = os.getcwd()\n",
        "DATA_BASE_DIRECTORY: str = os.path.join(current_working_directory, 'data')"
      ],
      "id": "4ab05b4b7ab2bc28",
      "outputs": [],
      "execution_count": 3
    },
    {
      "cell_type": "markdown",
      "source": [
        "# Acquiring & Handling Data"
      ],
      "metadata": {
        "id": "-2XQCQ27vUIF"
      },
      "id": "-2XQCQ27vUIF"
    },
    {
      "cell_type": "markdown",
      "source": [
        "<font size=\"6\">Acquiring_Data</font>"
      ],
      "metadata": {
        "id": "f6UkO1B1wS3I"
      },
      "id": "f6UkO1B1wS3I"
    },
    {
      "cell_type": "code",
      "source": [
        "!pip install -q gdown\n",
        "\n",
        "# 1. Download from Google Drive using gdown (extract the file ID from your link)\n",
        "file_id = \"1p1wjaqpTh_5RHfJu4vUh8JJCdKwYMHCp\"\n",
        "zip_path = \"dataset.zip\"\n",
        "!gdown {file_id} -O {zip_path}\n",
        "\n",
        "# 2. Extract the zip\n",
        "os.makedirs(DATA_BASE_DIRECTORY, exist_ok=True)\n",
        "with zipfile.ZipFile(zip_path, 'r') as zip_ref:\n",
        "    zip_ref.extractall(DATA_BASE_DIRECTORY)\n",
        "\n",
        "# 3. List the contents\n",
        "!ls {DATA_BASE_DIRECTORY}"
      ],
      "metadata": {
        "colab": {
          "base_uri": "https://localhost:8080/"
        },
        "id": "_c2tOa7RwRsW",
        "outputId": "01d2ecf0-6820-4df4-a485-5b78caa55424"
      },
      "id": "_c2tOa7RwRsW",
      "execution_count": 4,
      "outputs": [
        {
          "output_type": "stream",
          "name": "stdout",
          "text": [
            "/usr/local/lib/python3.11/dist-packages/gdown/__main__.py:140: FutureWarning: Option `--id` was deprecated in version 4.3.1 and will be removed in 5.0. You don't need to pass it anymore to use a file ID.\n",
            "  warnings.warn(\n",
            "Downloading...\n",
            "From (original): https://drive.google.com/uc?id=1p1wjaqpTh_5RHfJu4vUh8JJCdKwYMHCp\n",
            "From (redirected): https://drive.google.com/uc?id=1p1wjaqpTh_5RHfJu4vUh8JJCdKwYMHCp&confirm=t&uuid=51df2ee5-c057-4f58-8ef0-de4a384498ac\n",
            "To: /content/dataset.zip\n",
            "100% 104M/104M [00:01<00:00, 59.3MB/s] \n"
          ]
        }
      ]
    },
    {
      "metadata": {
        "id": "e8da3580c132e0a5"
      },
      "cell_type": "markdown",
      "source": [
        "<font size=\"6\">Handling_Data</font>"
      ],
      "id": "e8da3580c132e0a5"
    },
    {
      "metadata": {
        "id": "215faa708c9b8a96"
      },
      "cell_type": "code",
      "source": [
        "# Iterating over all the data.\n",
        "# Dividing to images with 2 (or more) examples and others that have exactly one.\n",
        "# tuple[dict_more_than_2_examples, dict_1_example]\n",
        "def get_all_pictures_divided_by_examples(base_directory: str) -> tuple[dict[str, list[str]], dict[str, list[str]]]:\n",
        "    returned_tuple: tuple[dict[str, list[str]], dict[str, list[str]]] = (dict(), dict())\n",
        "    for root, subdirs, files in os.walk(base_directory):\n",
        "        if root == base_directory:\n",
        "            continue\n",
        "        picture_name: str = root.split(os.sep)[-1]\n",
        "        print(picture_name)\n",
        "        list_to_insert: list[str] = list()\n",
        "        for file in files:\n",
        "            if not file.endswith('.jpg'):\n",
        "                raise Warning(f\"File {file} is not a .jpg file. Continuing...\")\n",
        "            list_to_insert.append(os.path.join(root, file))\n",
        "        if len(list_to_insert) > 1:\n",
        "            returned_tuple[0][picture_name] = list_to_insert\n",
        "        elif len(list_to_insert) == 1:\n",
        "            returned_tuple[1][picture_name] = list_to_insert\n",
        "        else:\n",
        "            # Length 0\n",
        "            raise Warning(f\"Found no pictures in: {root}\")\n",
        "    return returned_tuple\n",
        "\n",
        "divided_images = get_all_pictures_divided_by_examples(DATA_BASE_DIRECTORY)"
      ],
      "id": "215faa708c9b8a96",
      "outputs": [],
      "execution_count": null
    },
    {
      "metadata": {
        "id": "c1528f83f48d4ec8"
      },
      "cell_type": "markdown",
      "source": [
        "<font size=\"6\">Creating Network</font>"
      ],
      "id": "c1528f83f48d4ec8"
    },
    {
      "metadata": {
        "ExecuteTime": {
          "end_time": "2025-04-24T11:01:51.240312Z",
          "start_time": "2025-04-24T11:01:50.832893Z"
        },
        "id": "bcd78c34b2aa484d",
        "outputId": "b319dcf2-eda1-45e6-d0d3-b9b8bf082333"
      },
      "cell_type": "code",
      "source": [
        "class ConvNet(nn.Module):\n",
        "    def __init__(self):\n",
        "        super().__init__()\n",
        "        self.cnn = nn.Sequential(\n",
        "            nn.Conv2d(in_channels=1, out_channels=64, kernel_size=10),  # TODO Change the in channels to support more colors.\n",
        "            nn.ReLU(),\n",
        "            nn.MaxPool2d(kernel_size=2, stride=2),\n",
        "\n",
        "            nn.Conv2d(in_channels=64, out_channels=128, kernel_size=7),  # TODO Change the in channels to support more colors.\n",
        "            nn.ReLU(),\n",
        "            nn.MaxPool2d(kernel_size=2, stride=2),\n",
        "\n",
        "            nn.Conv2d(in_channels=128, out_channels=128, kernel_size=4),  # TODO Change the in channels to support more colors.\n",
        "            nn.ReLU(),\n",
        "            nn.MaxPool2d(kernel_size=2, stride=2),\n",
        "\n",
        "            nn.Conv2d(in_channels=128, out_channels=256, kernel_size=4),  # TODO Change the in channels to support more colors.\n",
        "            nn.ReLU(),\n",
        "        )\n",
        "\n",
        "        self.fc1 = nn.Sequential(\n",
        "            nn.Flatten(),                         # -> [256*6*6 = 9216]\n",
        "            nn.Linear(256*6*6, 4096),\n",
        "            nn.Sigmoid()\n",
        "        )\n",
        "\n",
        "        self.fc2 = nn.Sequential(\n",
        "            nn.Linear(4096, 1),\n",
        "            nn.Sigmoid()  # similarity score\n",
        "        )\n",
        "\n",
        "    def forward_once(self, x):\n",
        "        x = self.cnn(x)\n",
        "        x = self.fc1(x)\n",
        "        return x\n",
        "\n",
        "    def forward(self, input1, input2):\n",
        "        out1 = self.forward_once(input1)\n",
        "        out2 = self.forward_once(input2)\n",
        "        # L1 distance\n",
        "        diff = torch.abs(out1 - out2)\n",
        "        similarity_score = self.fc2(diff)\n",
        "        return similarity_score\n",
        "\n",
        "\n",
        "\n",
        "# asd = ConvNet()"
      ],
      "id": "bcd78c34b2aa484d",
      "outputs": [
        {
          "ename": "NameError",
          "evalue": "name 'nn' is not defined",
          "output_type": "error",
          "traceback": [
            "\u001b[1;31m---------------------------------------------------------------------------\u001b[0m",
            "\u001b[1;31mNameError\u001b[0m                                 Traceback (most recent call last)",
            "Cell \u001b[1;32mIn[1], line 1\u001b[0m\n\u001b[1;32m----> 1\u001b[0m \u001b[38;5;28;01mclass\u001b[39;00m \u001b[38;5;21;01mSiamiseNet\u001b[39;00m(nn\u001b[38;5;241m.\u001b[39mModule):\n\u001b[0;32m      2\u001b[0m     \u001b[38;5;28;01mdef\u001b[39;00m \u001b[38;5;21m__init__\u001b[39m(\u001b[38;5;28mself\u001b[39m):\n\u001b[0;32m      3\u001b[0m         \u001b[38;5;28msuper\u001b[39m()\u001b[38;5;241m.\u001b[39m\u001b[38;5;21m__init__\u001b[39m()\n",
            "\u001b[1;31mNameError\u001b[0m: name 'nn' is not defined"
          ]
        }
      ],
      "execution_count": null
    }
  ],
  "metadata": {
    "kernelspec": {
      "display_name": "Python 3",
      "language": "python",
      "name": "python3"
    },
    "language_info": {
      "codemirror_mode": {
        "name": "ipython",
        "version": 2
      },
      "file_extension": ".py",
      "mimetype": "text/x-python",
      "name": "python",
      "nbconvert_exporter": "python",
      "pygments_lexer": "ipython2",
      "version": "2.7.6"
    },
    "colab": {
      "provenance": [],
      "include_colab_link": true
    }
  },
  "nbformat": 4,
  "nbformat_minor": 5
}